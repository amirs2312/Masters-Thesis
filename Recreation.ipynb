{
 "cells": [
  {
   "cell_type": "code",
   "execution_count": 3,
   "metadata": {},
   "outputs": [
    {
     "name": "stdout",
     "output_type": "stream",
     "text": [
      "Using  cpu\n"
     ]
    }
   ],
   "source": [
    "import numpy as np\n",
    "from qiskit import QuantumCircuit\n",
    "import torch\n",
    "import matplotlib as plt\n",
    "import pdflatex\n",
    "import pylatexenc\n",
    "import gym\n",
    "import torch\n",
    "\n",
    "# Quick Check to see if my GPU is being detected\n",
    "device = torch.device(\"cuda\" if torch.cuda.is_available() else  \"cpu\")\n",
    "print(\"Using \", device)"
   ]
  }
 ],
 "metadata": {
  "kernelspec": {
   "display_name": "QRL",
   "language": "python",
   "name": "python3"
  },
  "language_info": {
   "codemirror_mode": {
    "name": "ipython",
    "version": 3
   },
   "file_extension": ".py",
   "mimetype": "text/x-python",
   "name": "python",
   "nbconvert_exporter": "python",
   "pygments_lexer": "ipython3",
   "version": "3.10.15"
  }
 },
 "nbformat": 4,
 "nbformat_minor": 2
}
